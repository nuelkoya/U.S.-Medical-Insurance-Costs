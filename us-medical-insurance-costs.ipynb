{
 "cells": [
  {
   "cell_type": "markdown",
   "metadata": {},
   "source": [
    "# U.S. Medical Insurance Costs\n",
    "\n",
    "Goal of the project\n",
    "+ Find the total charge and average charge of all patients\n",
    "+ Average of patitents in our dataset\n",
    "+ Region with the most patients in our dataset\n",
    "+ Difference in cost between smokers and non-smokers\n",
    "    +  percentage_difference\n",
    "+ Average age for patients with at least one child\n",
    "+ Median(function)\n",
    "    +  Charges for all patients\n",
    "    +  Age of all patients\n",
    "+ Median charges for patients based on region\n",
    "+ How does being a smoker/non-smoker affect insurance charge"
   ]
  },
  {
   "cell_type": "code",
   "execution_count": 305,
   "metadata": {},
   "outputs": [],
   "source": [
    "import csv\n",
    "import math\n",
    "import random"
   ]
  },
  {
   "cell_type": "code",
   "execution_count": 306,
   "metadata": {},
   "outputs": [],
   "source": [
    "#importing csv file into python and converting csv data to dictionary\n",
    "insurance_data = []\n",
    "\n",
    "with open('insurance.csv', newline='') as insurance_csv:\n",
    "    reader = csv.DictReader(insurance_csv)\n",
    "    for row in reader:\n",
    "        insurance_data.append(row)\n",
    "#print(insurance_data)\n"
   ]
  },
  {
   "cell_type": "code",
   "execution_count": 307,
   "metadata": {},
   "outputs": [
    {
     "name": "stdout",
     "output_type": "stream",
     "text": [
      "The total charge for all patients is $17755815.0 and average charge is $13270.0\n"
     ]
    }
   ],
   "source": [
    "#Total Charges and Average Charge of all patients\n",
    "total_cost = 0\n",
    "count = 0\n",
    "average_cost = 0\n",
    "for each in insurance_data:\n",
    "    count += 1\n",
    "    total_cost += round(float(each['charges']), 0)\n",
    "\n",
    "average_cost = round(total_cost / count, 0)\n",
    "\n",
    "print('The total charge for all patients is ${} and average charge is ${}'.format(total_cost, average_cost))\n"
   ]
  },
  {
   "cell_type": "code",
   "execution_count": 308,
   "metadata": {},
   "outputs": [
    {
     "name": "stdout",
     "output_type": "stream",
     "text": [
      "The average age of the patints in our dataset is 39.21 years old\n"
     ]
    }
   ],
   "source": [
    "#Average age of patients in our dataset\n",
    "sum_of_ages = 0\n",
    "for each in insurance_data:\n",
    "    sum_of_ages += int(each['age'])\n",
    "\n",
    "print('The average age of the patints in our dataset is {} years old'.format(round(sum_of_ages/len(insurance_data),2)))\n",
    "\n",
    "    "
   ]
  },
  {
   "cell_type": "code",
   "execution_count": 309,
   "metadata": {},
   "outputs": [
    {
     "name": "stdout",
     "output_type": "stream",
     "text": [
      "The region with the most patients is Southwest with 364 patients\n"
     ]
    }
   ],
   "source": [
    "#region with the most patients\n",
    "region_dict = {'Northeast': 0, 'Northwest': 0, 'Southeast': 0, 'Southwest': 0}\n",
    "\n",
    "for each in insurance_data:\n",
    "    if each['region'] == 'northeast':\n",
    "        #ne_count += 1\n",
    "        region_dict['Northeast'] += 1\n",
    "    elif each['region'] == 'northwest':\n",
    "        region_dict['Northwest'] += 1\n",
    "    elif each['region'] == 'southwest':\n",
    "        region_dict['Southwest'] += 1\n",
    "    else:\n",
    "        region_dict['Southeast'] += 1\n",
    "\n",
    "\n",
    "print('The region with the most patients is {} with {} patients'.format(max(region_dict.keys()), max(region_dict.values())))"
   ]
  },
  {
   "cell_type": "code",
   "execution_count": 310,
   "metadata": {},
   "outputs": [
    {
     "name": "stdout",
     "output_type": "stream",
     "text": [
      "The total charge for smokers is $8781762.0, and the total chagre for non-smoker is $8974053.0\n"
     ]
    }
   ],
   "source": [
    "#Difference in cost between smokers and non-smokers\n",
    "total_cost_for_smokers = 0\n",
    "total_cost_for_non_smokers = 0\n",
    "count_smokers= 0\n",
    "count_non_smokers = 0\n",
    "\n",
    "for each in insurance_data:\n",
    "    if each['smoker'] == 'yes':\n",
    "        total_cost_for_smokers += round(float(each['charges']), 0)\n",
    "        count_smokers += 1\n",
    "    else:\n",
    "        total_cost_for_non_smokers += round(float(each['charges']),0)\n",
    "        count_non_smokers += 1\n",
    "    \n",
    "\n",
    "print('The total charge for smokers is ${}, and the total chagre for non-smoker is ${}'.format\n",
    "      (total_cost_for_smokers,total_cost_for_non_smokers))\n",
    "\n"
   ]
  },
  {
   "cell_type": "code",
   "execution_count": 311,
   "metadata": {},
   "outputs": [
    {
     "name": "stdout",
     "output_type": "stream",
     "text": [
      "The difference in charges between non-smokers and smokers is 2.17 percent. This is skewed because in our dataset,\n",
      "we have 1064 non smoker and only 274 smokers.\n"
     ]
    }
   ],
   "source": [
    "#percentage difference formular\n",
    "def percentage_difference(num1, num2):\n",
    "    result = abs(round(((num1 - num2) / ((num1 + num2) / 2) * 100), 2))\n",
    "    return result\n",
    "\n",
    "\n",
    "\n",
    "smoker_difference = percentage_difference(total_cost_for_smokers, total_cost_for_non_smokers)\n",
    "\n",
    "print('''The difference in charges between non-smokers and smokers is {} percent. This is skewed because in our dataset,\n",
    "we have {} non smoker and only {} smokers.'''.format(smoker_difference, count_non_smokers, count_smokers))\n"
   ]
  },
  {
   "cell_type": "code",
   "execution_count": 312,
   "metadata": {},
   "outputs": [
    {
     "name": "stdout",
     "output_type": "stream",
     "text": [
      "The average age for patients with at least one child is 39.78\n"
     ]
    }
   ],
   "source": [
    "#Average age for patients with at least one child\n",
    "count = 0\n",
    "sum_age = 0\n",
    "\n",
    "for each in insurance_data:\n",
    "    if int(each['children']) >= 1:\n",
    "        count += 1\n",
    "        sum_age += int(each['age'])\n",
    "avg_age = sum_age / count\n",
    "print('The average age for patients with at least one child is {}'.format(round(avg_age,2)))"
   ]
  },
  {
   "cell_type": "code",
   "execution_count": 313,
   "metadata": {},
   "outputs": [],
   "source": [
    "#median function\n",
    "def median(data, row):\n",
    "    new_data = []\n",
    "    for each in data:\n",
    "        new_data.append(float(each[row]))\n",
    "    new_data.sort()   \n",
    "    index = math.floor((len(new_data) + 1) / 2)\n",
    "    print(round(new_data[index], 2))\n",
    "\n",
    "    \n",
    "    "
   ]
  },
  {
   "cell_type": "code",
   "execution_count": 314,
   "metadata": {},
   "outputs": [
    {
     "name": "stdout",
     "output_type": "stream",
     "text": [
      "9386.16\n"
     ]
    }
   ],
   "source": [
    "#Median charges for all patients\n",
    "median(insurance_data, 'charges')"
   ]
  },
  {
   "cell_type": "code",
   "execution_count": 315,
   "metadata": {},
   "outputs": [
    {
     "name": "stdout",
     "output_type": "stream",
     "text": [
      "39.0\n"
     ]
    }
   ],
   "source": [
    "#Median age for all patients\n",
    "median(insurance_data, 'age')"
   ]
  },
  {
   "cell_type": "code",
   "execution_count": 316,
   "metadata": {},
   "outputs": [],
   "source": [
    "#Median charges for patients based on region\n",
    "charges_for_se = []\n",
    "charges_for_sw = []\n",
    "charges_for_ne = []\n",
    "charges_for_nw = []\n",
    "\n",
    "for each in insurance_data:\n",
    "    if each['region'] == 'southeast':\n",
    "        charges_for_se.append(float(each['charges']))\n",
    "    elif each['region'] == 'southwest':\n",
    "        charges_for_sw.append(float(each['charges']))\n",
    "    elif each['region'] == 'northeast':\n",
    "        charges_for_ne.append(float(each['charges']))\n",
    "    else:\n",
    "        charges_for_nw.append(float(each['charges']))\n",
    "        \n",
    "charges_for_se.sort()\n",
    "charges_for_sw.sort()\n",
    "charges_for_ne.sort()\n",
    "charges_for_nw.sort()\n",
    "\n"
   ]
  },
  {
   "cell_type": "code",
   "execution_count": 317,
   "metadata": {},
   "outputs": [],
   "source": [
    "def median_based_region(data, region):\n",
    "    index = math.floor((len(data) + 1) / 2)\n",
    "    print('The median insurance charge for patients in {} is ${}'.format(region, data[index]))\n",
    "        \n",
    "        "
   ]
  },
  {
   "cell_type": "code",
   "execution_count": 318,
   "metadata": {},
   "outputs": [
    {
     "name": "stdout",
     "output_type": "stream",
     "text": [
      "The median insurance charge for patients in southeast is $9304.7019\n",
      "The median insurance charge for patients in southwest is $8823.279\n",
      "The median insurance charge for patients in northeast is $10072.05505\n",
      "The median insurance charge for patients in northwest is $8988.15875\n"
     ]
    }
   ],
   "source": [
    "median_based_region(charges_for_se, 'southeast')\n",
    "median_based_region(charges_for_sw, 'southwest')\n",
    "median_based_region(charges_for_ne, 'northeast')\n",
    "median_based_region(charges_for_nw, 'northwest')"
   ]
  },
  {
   "cell_type": "raw",
   "metadata": {},
   "source": [
    "Randomly selecting two males/females below the age of 30(inclusive) with no children one being a smoker the other being a non smoker."
   ]
  },
  {
   "cell_type": "code",
   "execution_count": 319,
   "metadata": {},
   "outputs": [],
   "source": [
    "def charge_diff_smoker_nonsmoker(insurance_data, sex):\n",
    "    \n",
    "    data_smokers = []\n",
    "    data_non_smokers = []\n",
    "    \n",
    "    for each in insurance_data:\n",
    "        if int(each['age']) <= 30 and each['sex'] == sex and each['smoker'] == 'yes':\n",
    "            data_smokers.append(float(each['charges']))\n",
    "        elif int(each['age']) <= 30 and each['sex'] == sex and each['smoker'] == 'no':\n",
    "            data_non_smokers.append(float(each['charges']))\n",
    "    \n",
    "    person1 = random.choice(data_smokers)\n",
    "    person2 = random.choice(data_non_smokers)\n",
    "  \n",
    "    return 'The percentage difference with a smoker charge ${} and non-smoker charge ${} is {}%'.format(person1, person2, percentage_difference(person1, person2))\n",
    "    "
   ]
  },
  {
   "cell_type": "code",
   "execution_count": 320,
   "metadata": {},
   "outputs": [
    {
     "data": {
      "text/plain": [
       "'The percentage difference with a smoker charge $17663.1442 and non-smoker charge $2902.9065 is 143.54%'"
      ]
     },
     "execution_count": 320,
     "metadata": {},
     "output_type": "execute_result"
    }
   ],
   "source": [
    "charge_diff_smoker_nonsmoker(insurance_data, 'male')\n"
   ]
  },
  {
   "cell_type": "code",
   "execution_count": 321,
   "metadata": {},
   "outputs": [
    {
     "data": {
      "text/plain": [
       "'The percentage difference with a smoker charge $38511.6283 and non-smoker charge $1744.465 is 182.67%'"
      ]
     },
     "execution_count": 321,
     "metadata": {},
     "output_type": "execute_result"
    }
   ],
   "source": [
    "charge_diff_smoker_nonsmoker(insurance_data, 'female')"
   ]
  },
  {
   "cell_type": "code",
   "execution_count": null,
   "metadata": {},
   "outputs": [],
   "source": []
  },
  {
   "cell_type": "code",
   "execution_count": null,
   "metadata": {},
   "outputs": [],
   "source": []
  }
 ],
 "metadata": {
  "kernelspec": {
   "display_name": "Python 3 (ipykernel)",
   "language": "python",
   "name": "python3"
  },
  "language_info": {
   "codemirror_mode": {
    "name": "ipython",
    "version": 3
   },
   "file_extension": ".py",
   "mimetype": "text/x-python",
   "name": "python",
   "nbconvert_exporter": "python",
   "pygments_lexer": "ipython3",
   "version": "3.11.5"
  }
 },
 "nbformat": 4,
 "nbformat_minor": 4
}
